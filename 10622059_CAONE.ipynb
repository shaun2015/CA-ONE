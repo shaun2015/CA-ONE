{
  "nbformat": 4,
  "nbformat_minor": 0,
  "metadata": {
    "colab": {
      "provenance": [],
      "authorship_tag": "ABX9TyPwW3X7WwewfNgBdWZus8BS",
      "include_colab_link": true
    },
    "kernelspec": {
      "name": "python3",
      "display_name": "Python 3"
    },
    "language_info": {
      "name": "python"
    }
  },
  "cells": [
    {
      "cell_type": "markdown",
      "metadata": {
        "id": "view-in-github",
        "colab_type": "text"
      },
      "source": [
        "<a href=\"https://colab.research.google.com/github/shaun2015/CA-ONE/blob/main/10622059_CAONE.ipynb\" target=\"_parent\"><img src=\"https://colab.research.google.com/assets/colab-badge.svg\" alt=\"Open In Colab\"/></a>"
      ]
    },
    {
      "cell_type": "code",
      "execution_count": 3,
      "metadata": {
        "id": "W_FdjYQhfYN3"
      },
      "outputs": [],
      "source": [
        "class Employee:\n",
        "  def __init__(self, name, weeklyhours, rate, overtimeRate, weeklytaxcredit ):\n",
        "    self.name = name\n",
        "    self.weeklyhours = weeklyhours\n",
        "    self.rate = rate\n",
        "    self.overtimeRate = overtimeRate\n",
        "    self.weeklytaxcredit = weeklytaxcredit"
      ]
    }
  ]
}