{
  "nbformat": 4,
  "nbformat_minor": 0,
  "metadata": {
    "colab": {
      "provenance": [],
      "authorship_tag": "ABX9TyPVbaOu1kegtLaFPfOMPt6l",
      "include_colab_link": true
    },
    "kernelspec": {
      "name": "python3",
      "display_name": "Python 3"
    },
    "language_info": {
      "name": "python"
    }
  },
  "cells": [
    {
      "cell_type": "markdown",
      "metadata": {
        "id": "view-in-github",
        "colab_type": "text"
      },
      "source": [
        "<a href=\"https://colab.research.google.com/github/shaun2015/CA-ONE/blob/main/10622059_CAONE.ipynb\" target=\"_parent\"><img src=\"https://colab.research.google.com/assets/colab-badge.svg\" alt=\"Open In Colab\"/></a>"
      ]
    },
    {
      "cell_type": "code",
      "execution_count": 6,
      "metadata": {
        "id": "W_FdjYQhfYN3"
      },
      "outputs": [],
      "source": [
        "class Employee:\n",
        "  def __init__(self, name, weeklyhours, rate, overtimeRate, weeklytaxcredit ):\n",
        "    self.name = name\n",
        "    self.weeklyhours = weeklyhours\n",
        "    self.rate = rate\n",
        "    self.overtimeRate = overtimeRate\n",
        "    self.weeklytaxcredit = weeklytaxcredit\n",
        "\n",
        "  def computeWeeklyPay (self,hours):\n",
        "    grosspay = 0\n",
        "  \n",
        "    if hours > self.weeklyhours:\n",
        "      self.weeklytaxcredit = hours - self.weeklyhours\n",
        "    else:\n",
        "      self.weeklytaxcredit = self.weeklyhours - hours\n",
        "      weeklytaxcredit *= self.overtimeRate\n",
        "      grosspay +=(self.rate * self.weeklyhours) + weeklytaxcredit \n",
        "  \n",
        "    if grosspay < 0:\n",
        "      return 0\n",
        "  \n",
        "    return grosspay \n",
        "  \n",
        "  def computeTax(self,grossPay):\n",
        "    \n",
        "\n"
      ]
    }
  ]
}